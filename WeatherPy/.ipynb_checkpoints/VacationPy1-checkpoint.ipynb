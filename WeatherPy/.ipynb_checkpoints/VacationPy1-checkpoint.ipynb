{
 "cells": [
  {
   "cell_type": "markdown",
   "metadata": {},
   "source": [
    "# VacationPy\n",
    "----\n",
    "\n",
    "#### Note\n",
    "* Keep an eye on your API usage. Use https://developers.google.com/maps/reporting/gmp-reporting as reference for how to monitor your usage and billing.\n",
    "\n",
    "* Instructions have been included for each segment. You do not have to follow them exactly, but they are included to help you think through the steps."
   ]
  },
  {
   "cell_type": "code",
   "execution_count": 29,
   "metadata": {},
   "outputs": [],
   "source": [
    "# Dependencies and Setup\n",
    "import matplotlib.pyplot as plt\n",
    "import pandas as pd\n",
    "import numpy as np\n",
    "import requests\n",
    "import gmaps  #pip install python-gmaps\n",
    "import os\n",
    "\n",
    "# Import API key\n",
    "from api_keys import g_key"
   ]
  },
  {
   "cell_type": "markdown",
   "metadata": {},
   "source": [
    "### Store Part I results into DataFrame\n",
    "* Load the csv exported in Part I to a DataFrame"
   ]
  },
  {
   "cell_type": "code",
   "execution_count": 30,
   "metadata": {},
   "outputs": [],
   "source": [
    "weather_data = pd.read_csv(\"../WeatherPy/output_data/cities.csv\")\n"
   ]
  },
  {
   "cell_type": "markdown",
   "metadata": {},
   "source": [
    "### Humidity Heatmap\n",
    "* Configure gmaps.\n",
    "* Use the Lat and Lng as locations and Humidity as the weight.\n",
    "* Add Heatmap layer to map."
   ]
  },
  {
   "cell_type": "code",
   "execution_count": 31,
   "metadata": {},
   "outputs": [
    {
     "ename": "NameError",
     "evalue": "name 'Longitude' is not defined",
     "output_type": "error",
     "traceback": [
      "\u001b[0;31m---------------------------------------------------------------------------\u001b[0m",
      "\u001b[0;31mNameError\u001b[0m                                 Traceback (most recent call last)",
      "\u001b[0;32m<ipython-input-31-66b6a40e81d6>\u001b[0m in \u001b[0;36m<module>\u001b[0;34m\u001b[0m\n\u001b[1;32m      1\u001b[0m \u001b[0mgmaps\u001b[0m\u001b[0;34m.\u001b[0m\u001b[0mconfigure\u001b[0m\u001b[0;34m(\u001b[0m\u001b[0mapi_key\u001b[0m\u001b[0;34m=\u001b[0m\u001b[0mg_key\u001b[0m\u001b[0;34m)\u001b[0m \u001b[0;31m#Configure gmaps\u001b[0m\u001b[0;34m\u001b[0m\u001b[0;34m\u001b[0m\u001b[0m\n\u001b[0;32m----> 2\u001b[0;31m \u001b[0mlocations\u001b[0m \u001b[0;34m=\u001b[0m \u001b[0mweather_data\u001b[0m\u001b[0;34m[\u001b[0m\u001b[0;34m[\u001b[0m\u001b[0;34m\"Latitude\"\u001b[0m\u001b[0;34m]\u001b[0m\u001b[0;34m,\u001b[0m\u001b[0;34m[\u001b[0m\u001b[0mLongitude\u001b[0m\u001b[0;34m]\u001b[0m\u001b[0;34m]\u001b[0m \u001b[0;31m#grab lat and lng\u001b[0m\u001b[0;34m\u001b[0m\u001b[0;34m\u001b[0m\u001b[0m\n\u001b[0m\u001b[1;32m      3\u001b[0m \u001b[0mhumidity\u001b[0m \u001b[0;34m=\u001b[0m \u001b[0mweather_data\u001b[0m\u001b[0;34m[\u001b[0m\u001b[0;34m\"Humidity\"\u001b[0m\u001b[0;34m]\u001b[0m \u001b[0;31m#grab humidity levels for weight\u001b[0m\u001b[0;34m\u001b[0m\u001b[0;34m\u001b[0m\u001b[0m\n",
      "\u001b[0;31mNameError\u001b[0m: name 'Longitude' is not defined"
     ]
    }
   ],
   "source": [
    "gmaps.configure(api_key=g_key) #Configure gmaps \n",
    "locations = weather_data[[\"Latitude\",\"Longitude\"]] #grab lat and lng\n",
    "humidity = weather_data[\"Humidity\"] #grab humidity levels for weight"
   ]
  },
  {
   "cell_type": "code",
   "execution_count": 36,
   "metadata": {},
   "outputs": [
    {
     "data": {
      "application/vnd.jupyter.widget-view+json": {
       "model_id": "a57c8886326444efb417530edafa29d4",
       "version_major": 2,
       "version_minor": 0
      },
      "text/plain": [
       "Figure(layout=FigureLayout(height='420px'))"
      ]
     },
     "metadata": {},
     "output_type": "display_data"
    }
   ],
   "source": [
    "#Add Heatmap layer to map\n",
    "#https://jupyter-gmaps.readthedocs.io/en/latest/api.html\n",
    "fig = gmaps.figure(center=(46.0, -5.0), zoom_level=2)\n",
    "max_intensity = np.max(humidity)\n",
    "\n",
    "# Create heat layer\n",
    "heatmap = gmaps.heatmap_layer(locations, weights = humidity, dissipating=False, max_intensity=100, point_radius=3)\n",
    "\n",
    "# Add layer\n",
    "fig.add_layer(heatmap)\n",
    "\n",
    "# Display figure\n",
    "fig"
   ]
  },
  {
   "cell_type": "markdown",
   "metadata": {},
   "source": [
    "### Create new DataFrame fitting weather criteria\n",
    "* Narrow down the cities to fit weather conditions.\n",
    "* Drop any rows will null values."
   ]
  },
  {
   "cell_type": "code",
   "execution_count": 66,
   "metadata": {},
   "outputs": [
    {
     "data": {
      "text/html": [
       "<div>\n",
       "<style scoped>\n",
       "    .dataframe tbody tr th:only-of-type {\n",
       "        vertical-align: middle;\n",
       "    }\n",
       "\n",
       "    .dataframe tbody tr th {\n",
       "        vertical-align: top;\n",
       "    }\n",
       "\n",
       "    .dataframe thead th {\n",
       "        text-align: right;\n",
       "    }\n",
       "</style>\n",
       "<table border=\"1\" class=\"dataframe\">\n",
       "  <thead>\n",
       "    <tr style=\"text-align: right;\">\n",
       "      <th></th>\n",
       "      <th>City_ID</th>\n",
       "      <th>City</th>\n",
       "      <th>Latitude</th>\n",
       "      <th>Longitude</th>\n",
       "      <th>Max Temp</th>\n",
       "      <th>Humidity</th>\n",
       "      <th>Cloudiness</th>\n",
       "      <th>Wind Speed</th>\n",
       "      <th>Country</th>\n",
       "      <th>Date</th>\n",
       "    </tr>\n",
       "  </thead>\n",
       "  <tbody>\n",
       "    <tr>\n",
       "      <th>28</th>\n",
       "      <td>28</td>\n",
       "      <td>Tolga</td>\n",
       "      <td>34.72</td>\n",
       "      <td>5.38</td>\n",
       "      <td>73.40</td>\n",
       "      <td>43</td>\n",
       "      <td>0</td>\n",
       "      <td>3.36</td>\n",
       "      <td>DZ</td>\n",
       "      <td>1603493027</td>\n",
       "    </tr>\n",
       "    <tr>\n",
       "      <th>55</th>\n",
       "      <td>55</td>\n",
       "      <td>Chiredzi</td>\n",
       "      <td>-21.05</td>\n",
       "      <td>31.67</td>\n",
       "      <td>71.15</td>\n",
       "      <td>55</td>\n",
       "      <td>0</td>\n",
       "      <td>2.59</td>\n",
       "      <td>ZW</td>\n",
       "      <td>1603493030</td>\n",
       "    </tr>\n",
       "    <tr>\n",
       "      <th>62</th>\n",
       "      <td>62</td>\n",
       "      <td>Vidisha</td>\n",
       "      <td>23.53</td>\n",
       "      <td>77.82</td>\n",
       "      <td>70.83</td>\n",
       "      <td>54</td>\n",
       "      <td>0</td>\n",
       "      <td>3.36</td>\n",
       "      <td>IN</td>\n",
       "      <td>1603493031</td>\n",
       "    </tr>\n",
       "    <tr>\n",
       "      <th>237</th>\n",
       "      <td>237</td>\n",
       "      <td>Kiryat Gat</td>\n",
       "      <td>31.61</td>\n",
       "      <td>34.76</td>\n",
       "      <td>71.60</td>\n",
       "      <td>83</td>\n",
       "      <td>0</td>\n",
       "      <td>8.05</td>\n",
       "      <td>IL</td>\n",
       "      <td>1603493051</td>\n",
       "    </tr>\n",
       "    <tr>\n",
       "      <th>250</th>\n",
       "      <td>250</td>\n",
       "      <td>Kabrāi</td>\n",
       "      <td>25.42</td>\n",
       "      <td>80.02</td>\n",
       "      <td>73.83</td>\n",
       "      <td>34</td>\n",
       "      <td>0</td>\n",
       "      <td>4.50</td>\n",
       "      <td>IN</td>\n",
       "      <td>1603493053</td>\n",
       "    </tr>\n",
       "    <tr>\n",
       "      <th>338</th>\n",
       "      <td>338</td>\n",
       "      <td>Sānchi</td>\n",
       "      <td>23.48</td>\n",
       "      <td>77.73</td>\n",
       "      <td>70.77</td>\n",
       "      <td>54</td>\n",
       "      <td>0</td>\n",
       "      <td>3.13</td>\n",
       "      <td>IN</td>\n",
       "      <td>1603493062</td>\n",
       "    </tr>\n",
       "    <tr>\n",
       "      <th>458</th>\n",
       "      <td>458</td>\n",
       "      <td>Salalah</td>\n",
       "      <td>17.02</td>\n",
       "      <td>54.09</td>\n",
       "      <td>73.40</td>\n",
       "      <td>43</td>\n",
       "      <td>0</td>\n",
       "      <td>3.36</td>\n",
       "      <td>OM</td>\n",
       "      <td>1603493075</td>\n",
       "    </tr>\n",
       "    <tr>\n",
       "      <th>485</th>\n",
       "      <td>485</td>\n",
       "      <td>Ceyhan</td>\n",
       "      <td>37.02</td>\n",
       "      <td>35.82</td>\n",
       "      <td>71.60</td>\n",
       "      <td>45</td>\n",
       "      <td>0</td>\n",
       "      <td>3.36</td>\n",
       "      <td>TR</td>\n",
       "      <td>1603493077</td>\n",
       "    </tr>\n",
       "  </tbody>\n",
       "</table>\n",
       "</div>"
      ],
      "text/plain": [
       "     City_ID        City  Latitude  Longitude  Max Temp  Humidity  Cloudiness  \\\n",
       "28        28       Tolga     34.72       5.38     73.40        43           0   \n",
       "55        55    Chiredzi    -21.05      31.67     71.15        55           0   \n",
       "62        62     Vidisha     23.53      77.82     70.83        54           0   \n",
       "237      237  Kiryat Gat     31.61      34.76     71.60        83           0   \n",
       "250      250      Kabrāi     25.42      80.02     73.83        34           0   \n",
       "338      338      Sānchi     23.48      77.73     70.77        54           0   \n",
       "458      458     Salalah     17.02      54.09     73.40        43           0   \n",
       "485      485      Ceyhan     37.02      35.82     71.60        45           0   \n",
       "\n",
       "     Wind Speed Country        Date  \n",
       "28         3.36      DZ  1603493027  \n",
       "55         2.59      ZW  1603493030  \n",
       "62         3.36      IN  1603493031  \n",
       "237        8.05      IL  1603493051  \n",
       "250        4.50      IN  1603493053  \n",
       "338        3.13      IN  1603493062  \n",
       "458        3.36      OM  1603493075  \n",
       "485        3.36      TR  1603493077  "
      ]
     },
     "execution_count": 66,
     "metadata": {},
     "output_type": "execute_result"
    }
   ],
   "source": [
    "#A max temperature lower than 80 degrees but higher than 70.\n",
    "#Wind speed less than 10 mph.\n",
    "#Zero cloudiness.\n",
    "ideal_weather = weather_data[(weather_data[\"Max Temp\"] > 70) & (weather_data[\"Max Temp\"] < 80) &\\\n",
    "                                (weather_data[\"Wind Speed\"] < 10) & (weather_data[\"Cloudiness\"] == 0)].dropna()\n",
    "ideal_weather"
   ]
  },
  {
   "cell_type": "markdown",
   "metadata": {},
   "source": [
    "### Hotel Map\n",
    "* Store into variable named `hotel_df`.\n",
    "* Add a \"Hotel Name\" column to the DataFrame.\n",
    "* Set parameters to search for hotels with 5000 meters.\n",
    "* Hit the Google Places API for each city's coordinates.\n",
    "* Store the first Hotel result into the DataFrame.\n",
    "* Plot markers on top of the heatmap."
   ]
  },
  {
   "cell_type": "code",
   "execution_count": 67,
   "metadata": {},
   "outputs": [
    {
     "data": {
      "text/html": [
       "<div>\n",
       "<style scoped>\n",
       "    .dataframe tbody tr th:only-of-type {\n",
       "        vertical-align: middle;\n",
       "    }\n",
       "\n",
       "    .dataframe tbody tr th {\n",
       "        vertical-align: top;\n",
       "    }\n",
       "\n",
       "    .dataframe thead th {\n",
       "        text-align: right;\n",
       "    }\n",
       "</style>\n",
       "<table border=\"1\" class=\"dataframe\">\n",
       "  <thead>\n",
       "    <tr style=\"text-align: right;\">\n",
       "      <th></th>\n",
       "      <th>City</th>\n",
       "      <th>Latitude</th>\n",
       "      <th>Longitude</th>\n",
       "      <th>Country</th>\n",
       "      <th>Hotel Name</th>\n",
       "    </tr>\n",
       "  </thead>\n",
       "  <tbody>\n",
       "    <tr>\n",
       "      <th>28</th>\n",
       "      <td>Tolga</td>\n",
       "      <td>34.72</td>\n",
       "      <td>5.38</td>\n",
       "      <td>DZ</td>\n",
       "      <td></td>\n",
       "    </tr>\n",
       "    <tr>\n",
       "      <th>55</th>\n",
       "      <td>Chiredzi</td>\n",
       "      <td>-21.05</td>\n",
       "      <td>31.67</td>\n",
       "      <td>ZW</td>\n",
       "      <td></td>\n",
       "    </tr>\n",
       "    <tr>\n",
       "      <th>62</th>\n",
       "      <td>Vidisha</td>\n",
       "      <td>23.53</td>\n",
       "      <td>77.82</td>\n",
       "      <td>IN</td>\n",
       "      <td></td>\n",
       "    </tr>\n",
       "    <tr>\n",
       "      <th>237</th>\n",
       "      <td>Kiryat Gat</td>\n",
       "      <td>31.61</td>\n",
       "      <td>34.76</td>\n",
       "      <td>IL</td>\n",
       "      <td></td>\n",
       "    </tr>\n",
       "    <tr>\n",
       "      <th>250</th>\n",
       "      <td>Kabrāi</td>\n",
       "      <td>25.42</td>\n",
       "      <td>80.02</td>\n",
       "      <td>IN</td>\n",
       "      <td></td>\n",
       "    </tr>\n",
       "    <tr>\n",
       "      <th>338</th>\n",
       "      <td>Sānchi</td>\n",
       "      <td>23.48</td>\n",
       "      <td>77.73</td>\n",
       "      <td>IN</td>\n",
       "      <td></td>\n",
       "    </tr>\n",
       "    <tr>\n",
       "      <th>458</th>\n",
       "      <td>Salalah</td>\n",
       "      <td>17.02</td>\n",
       "      <td>54.09</td>\n",
       "      <td>OM</td>\n",
       "      <td></td>\n",
       "    </tr>\n",
       "    <tr>\n",
       "      <th>485</th>\n",
       "      <td>Ceyhan</td>\n",
       "      <td>37.02</td>\n",
       "      <td>35.82</td>\n",
       "      <td>TR</td>\n",
       "      <td></td>\n",
       "    </tr>\n",
       "  </tbody>\n",
       "</table>\n",
       "</div>"
      ],
      "text/plain": [
       "           City  Latitude  Longitude Country Hotel Name\n",
       "28        Tolga     34.72       5.38      DZ           \n",
       "55     Chiredzi    -21.05      31.67      ZW           \n",
       "62      Vidisha     23.53      77.82      IN           \n",
       "237  Kiryat Gat     31.61      34.76      IL           \n",
       "250      Kabrāi     25.42      80.02      IN           \n",
       "338      Sānchi     23.48      77.73      IN           \n",
       "458     Salalah     17.02      54.09      OM           \n",
       "485      Ceyhan     37.02      35.82      TR           "
      ]
     },
     "execution_count": 67,
     "metadata": {},
     "output_type": "execute_result"
    }
   ],
   "source": [
    "hotel_df = ideal_weather.loc[:,[\"City\", \"Latitude\", \"Longitude\", \"Country\"]]\n",
    "hotel_df[\"Hotel Name\"] = \"\"\n",
    "hotel_df"
   ]
  },
  {
   "cell_type": "code",
   "execution_count": 74,
   "metadata": {},
   "outputs": [],
   "source": [
    "#https://developers.google.com/places/web-service/search  <<= lists parameters and search result types returned\n",
    "#https://developers.google.com/places/web-service/supported_types#table1 <<= use this for Place Types\n",
    "#https://softauthor.com/google-maps-places-api-nearby-search-request/ <<= shows how to use query parameters\n",
    "base_url = \"https://maps.googleapis.com/maps/api/place/nearbysearch/json\"\n",
    "\n",
    "params = {\"key\" : g_key, \"type\" : \"hotel\", \"keyword\" : \"hotel\", \"radius\" : 5000}\n"
   ]
  },
  {
   "cell_type": "code",
   "execution_count": 79,
   "metadata": {},
   "outputs": [
    {
     "name": "stdout",
     "output_type": "stream",
     "text": [
      "Retrieving Results for Index 28: Tolga.\n",
      "First hotel in Tolga is Hôtel Dar Diaf.\n",
      "Retrieving Results for Index 55: Chiredzi.\n",
      "First hotel in Chiredzi is The Nesbitt Arms.\n",
      "Retrieving Results for Index 62: Vidisha.\n",
      "First hotel in Vidisha is Hotel Landmark Garden, Vidisha.\n",
      "Retrieving Results for Index 237: Kiryat Gat.\n",
      "First hotel in Kiryat Gat is Desert Gat.\n",
      "Retrieving Results for Index 250: Kabrāi.\n",
      "Skipping: Kabrāi\n",
      "Retrieving Results for Index 338: Sānchi.\n",
      "First hotel in Sānchi is Gateway Retreat.\n",
      "Retrieving Results for Index 458: Salalah.\n",
      "First hotel in Salalah is BAITI Hotel Apartments.\n",
      "Retrieving Results for Index 485: Ceyhan.\n",
      "First hotel in Ceyhan is Otel Emre.\n"
     ]
    }
   ],
   "source": [
    "for index, row in hotel_df.iterrows():\n",
    "    # get city name, latitude, and longitude from df\n",
    "    latitude = row[\"Latitude\"]\n",
    "    longitude = row[\"Longitude\"]\n",
    "    city_name = row[\"City\"]\n",
    "    \n",
    "    # add keyword to params dict\n",
    "    params[\"location\"] = f\"{latitude},{longitude}\"\n",
    "\n",
    "    # assemble url and make API request\n",
    "    print(f\"Requesting results for Index {index}: {city_name}\")\n",
    "    response = requests.get(base_url, params=params).json()\n",
    "    \n",
    "    # extract results\n",
    "    results = response['results']\n",
    "    \n",
    "    # process retrieved info if returned results are valid, \n",
    "    # error trap because I found a city that had generated an IndexError\n",
    "    try:\n",
    "        print(f\"First hotel in {city_name} is {results[0]['name']}.\")\n",
    "        hotel_df.loc[index, \"Hotel Name\"] = results[0]['name']\n",
    "        \n",
    "    except:\n",
    "        print(f\"Skipping: {city_name}\")"
   ]
  },
  {
   "cell_type": "code",
   "execution_count": 81,
   "metadata": {},
   "outputs": [],
   "source": [
    "# NOTE: Do not change any of the code in this cell\n",
    "\n",
    "# Using the template add the hotel marks to the heatmap\n",
    "info_box_template = \"\"\"\n",
    "<dl>\n",
    "<dt>Name</dt><dd>{Hotel Name}</dd>\n",
    "<dt>City</dt><dd>{City}</dd>\n",
    "<dt>Country</dt><dd>{Country}</dd>\n",
    "</dl>\n",
    "\"\"\"\n",
    "# Store the DataFrame Row\n",
    "# NOTE: be sure to update with your DataFrame name\n",
    "hotel_info = [info_box_template.format(**row) for index, row in hotel_df.iterrows()]\n",
    "locations = hotel_df[[\"Latitude\", \"Longitude\"]]"
   ]
  },
  {
   "cell_type": "code",
   "execution_count": 84,
   "metadata": {},
   "outputs": [
    {
     "data": {
      "application/vnd.jupyter.widget-view+json": {
       "model_id": "a57c8886326444efb417530edafa29d4",
       "version_major": 2,
       "version_minor": 0
      },
      "text/plain": [
       "Figure(layout=FigureLayout(height='420px'))"
      ]
     },
     "metadata": {},
     "output_type": "display_data"
    }
   ],
   "source": [
    "# Add marker layer ontop of heat map\n",
    "# https://jupyter-gmaps.readthedocs.io/en/latest/api.html\n",
    "marker_layer = gmaps.marker_layer(locations, hotel_info)\n",
    "fig.add_layer(marker_layer)\n",
    "# Display figure\n",
    "fig"
   ]
  },
  {
   "cell_type": "code",
   "execution_count": null,
   "metadata": {},
   "outputs": [],
   "source": []
  }
 ],
 "metadata": {
  "kernelspec": {
   "display_name": "Python 3",
   "language": "python",
   "name": "python3"
  },
  "language_info": {
   "codemirror_mode": {
    "name": "ipython",
    "version": 3
   },
   "file_extension": ".py",
   "mimetype": "text/x-python",
   "name": "python",
   "nbconvert_exporter": "python",
   "pygments_lexer": "ipython3",
   "version": "3.8.3"
  },
  "latex_envs": {
   "LaTeX_envs_menu_present": true,
   "autoclose": false,
   "autocomplete": true,
   "bibliofile": "biblio.bib",
   "cite_by": "apalike",
   "current_citInitial": 1,
   "eqLabelWithNumbers": true,
   "eqNumInitial": 1,
   "hotkeys": {
    "equation": "Ctrl-E",
    "itemize": "Ctrl-I"
   },
   "labels_anchors": false,
   "latex_user_defs": false,
   "report_style_numbering": false,
   "user_envs_cfg": false
  }
 },
 "nbformat": 4,
 "nbformat_minor": 4
}
