{
 "cells": [
  {
   "cell_type": "code",
   "execution_count": 29,
   "metadata": {},
   "outputs": [],
   "source": [
    "from requests import get\n",
    "import requests\n",
    "import json"
   ]
  },
  {
   "cell_type": "code",
   "execution_count": 17,
   "metadata": {},
   "outputs": [
    {
     "name": "stdout",
     "output_type": "stream",
     "text": [
      "{'word': 'malmsey', 'score': 227, 'numSyllables': 2}\n",
      "{'word': 'ramsay', 'score': 207, 'numSyllables': 2}\n",
      "{'word': 'ramzi', 'score': 55, 'numSyllables': 2}\n",
      "{'word': 'diagrams he', 'numSyllables': 4}\n",
      "{'word': 'exams he', 'numSyllables': 3}\n",
      "{'word': 'lambs he', 'numSyllables': 2}\n",
      "{'word': 'programs e', 'numSyllables': 3}\n",
      "{'word': 'programs he', 'numSyllables': 3}\n",
      "{'word': 'ram z', 'numSyllables': 2}\n",
      "{'word': 'telegrams he', 'numSyllables': 4}\n"
     ]
    }
   ],
   "source": [
    "def getRhymes(word):\n",
    "    return get('https://api.datamuse.com/words?rel_rhy=' + word).json()\n",
    "\n",
    "wordToRhyme = 'Ramsey'\n",
    "\n",
    "for rhyme in getRhymes(wordToRhyme):\n",
    "    print(rhyme)"
   ]
  },
  {
   "cell_type": "code",
   "execution_count": 19,
   "metadata": {},
   "outputs": [
    {
     "name": "stdout",
     "output_type": "stream",
     "text": [
      "b'[{\"word\":\"door hinge\",\"score\":74,\"numSyllables\":2}]'\n"
     ]
    }
   ],
   "source": [
    "BASE_URL = 'https://api.datamuse.com/words?rel_rhy='\n",
    "response = requests.get(BASE_URL + 'orange')\n",
    "response.content\n",
    "print(response.content)\n"
   ]
  },
  {
   "cell_type": "code",
   "execution_count": 27,
   "metadata": {},
   "outputs": [
    {
     "data": {
      "text/plain": [
       "[{'word': 'malmsey', 'score': 227, 'numSyllables': 2},\n",
       " {'word': 'ramsay', 'score': 207, 'numSyllables': 2},\n",
       " {'word': 'ramzi', 'score': 55, 'numSyllables': 2},\n",
       " {'word': 'diagrams he', 'numSyllables': 4},\n",
       " {'word': 'exams he', 'numSyllables': 3},\n",
       " {'word': 'lambs he', 'numSyllables': 2},\n",
       " {'word': 'programs e', 'numSyllables': 3},\n",
       " {'word': 'programs he', 'numSyllables': 3},\n",
       " {'word': 'ram z', 'numSyllables': 2},\n",
       " {'word': 'telegrams he', 'numSyllables': 4}]"
      ]
     },
     "execution_count": 27,
     "metadata": {},
     "output_type": "execute_result"
    }
   ],
   "source": [
    "r = requests.get(BASE_URL + 'Ramsey').json()\n",
    "r"
   ]
  },
  {
   "cell_type": "code",
   "execution_count": 28,
   "metadata": {},
   "outputs": [
    {
     "name": "stdout",
     "output_type": "stream",
     "text": [
      "malmsey ryhmes with Ramsey\n",
      "ramsay ryhmes with Ramsey\n",
      "ramzi ryhmes with Ramsey\n",
      "diagrams he ryhmes with Ramsey\n",
      "exams he ryhmes with Ramsey\n",
      "lambs he ryhmes with Ramsey\n",
      "programs e ryhmes with Ramsey\n",
      "programs he ryhmes with Ramsey\n",
      "ram z ryhmes with Ramsey\n",
      "telegrams he ryhmes with Ramsey\n"
     ]
    }
   ],
   "source": [
    "for w in r:\n",
    "    print(w['word'], 'ryhmes with Ramsey')"
   ]
  },
  {
   "cell_type": "code",
   "execution_count": null,
   "metadata": {},
   "outputs": [],
   "source": []
  }
 ],
 "metadata": {
  "kernelspec": {
   "display_name": "Python 3",
   "language": "python",
   "name": "python3"
  },
  "language_info": {
   "codemirror_mode": {
    "name": "ipython",
    "version": 3
   },
   "file_extension": ".py",
   "mimetype": "text/x-python",
   "name": "python",
   "nbconvert_exporter": "python",
   "pygments_lexer": "ipython3",
   "version": "3.8.3"
  }
 },
 "nbformat": 4,
 "nbformat_minor": 4
}
